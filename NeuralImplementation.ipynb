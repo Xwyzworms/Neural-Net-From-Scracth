{
 "cells": [
  {
   "cell_type": "code",
   "execution_count": 51,
   "id": "bridal-throw",
   "metadata": {},
   "outputs": [
    {
     "data": {
      "text/plain": [
       "2.3"
      ]
     },
     "execution_count": 51,
     "metadata": {},
     "output_type": "execute_result"
    }
   ],
   "source": [
    "## Single Neuron ...\n",
    "\n",
    "inputs = [1, 2, 3]\n",
    "weights = [0.2, 0.8, -0.5]\n",
    "bias = 2\n",
    "\n",
    "outputs = ( inputs[0] * weights[0] +\n",
    "            inputs[1] * weights[1] +\n",
    "            inputs[2] * weights[2] \n",
    "          ) + bias\n",
    "outputs"
   ]
  },
  {
   "cell_type": "code",
   "execution_count": 57,
   "id": "baking-vessel",
   "metadata": {},
   "outputs": [
    {
     "data": {
      "text/plain": [
       "6.8"
      ]
     },
     "execution_count": 57,
     "metadata": {},
     "output_type": "execute_result"
    }
   ],
   "source": [
    "inputs = [1.0, 2,0, 3.0, 2.5]\n",
    "weights = [0.2, 0.8, -0.5,1.0]\n",
    "bias = 2.0\n",
    "\n",
    "outputs = (inputs[0] * weights[0] +\n",
    "          inputs[1] * weights[1]  +\n",
    "          inputs[2] * weights[2]  +\n",
    "          inputs[3] * weights[3] ) + bias\n",
    "\n",
    "outputs"
   ]
  },
  {
   "cell_type": "code",
   "execution_count": 81,
   "id": "sublime-training",
   "metadata": {},
   "outputs": [
    {
     "name": "stdout",
     "output_type": "stream",
     "text": [
      "-0.26\n"
     ]
    },
    {
     "data": {
      "text/plain": [
       "[4.8, 1.21, 2.385]"
      ]
     },
     "execution_count": 81,
     "metadata": {},
     "output_type": "execute_result"
    }
   ],
   "source": [
    "# Layer of Neurons\n",
    "# 5 INputs  3 Neurons :\n",
    "\n",
    "inputs = [1, 2 ,3 ,2.5]\n",
    "weights1 = [0.2, 0.8, -.5, 1]\n",
    "weights2 = [0.5, -.91, .26, -.5]\n",
    "weights3 = [-0.26, -0.27, 0.17, 0.87]\n",
    "\n",
    "bias1 = 2 ; bias2 = 3; bias3 = 0.5\n",
    "\n",
    "outputs = [\n",
    "    #neuron 1\n",
    "    inputs[0] * weights[0] +\n",
    "    inputs[1] * weights[1] +\n",
    "    inputs[2] * weights[2] +\n",
    "    inputs[3] * weights[3] + bias,\n",
    "    \n",
    "    #Neuron 2\n",
    "    inputs[0] * weights2[0] +\n",
    "    inputs[1] * weights2[1] +\n",
    "    inputs[2] * weights2[2] +\n",
    "    inputs[3] * weights2[3] + bias2,\n",
    "    \n",
    "    inputs[0] * weights3[0] +\n",
    "    inputs[1] * weights3[1] +\n",
    "    inputs[2] * weights3[2] +\n",
    "    inputs[3] * weights3[3] + bias3\n",
    "]\n",
    "   \n",
    "print( weights3[0])\n",
    "outputs\n",
    "        "
   ]
  },
  {
   "cell_type": "code",
   "execution_count": 92,
   "id": "homeless-consolidation",
   "metadata": {},
   "outputs": [
    {
     "data": {
      "text/plain": [
       "[4.8, 1.21, 2.385]"
      ]
     },
     "execution_count": 92,
     "metadata": {},
     "output_type": "execute_result"
    }
   ],
   "source": [
    "inputs = [1,2,3,2.5]\n",
    "weights = [ [0.2,0.8,-0.5,1], \n",
    "            [0.5,-0.91,0.26,-0.5],\n",
    "            [-0.26,-0.27,0.17,0.87]]\n",
    "biases = [2, 3, 0.5]\n",
    "layer_output = []\n",
    "for weight,neuron_bias in zip(weights,biases):\n",
    "    neuron_output = 0\n",
    "    for i_input, i_weight in zip(inputs,  weight):\n",
    "        neuron_output += i_input * i_weight\n",
    "    neuron_output += neuron_bias\n",
    "    layer_output.append(neuron_output)\n",
    "layer_output"
   ]
  },
  {
   "cell_type": "code",
   "execution_count": null,
   "id": "sticky-wildlife",
   "metadata": {},
   "outputs": [],
   "source": []
  }
 ],
 "metadata": {
  "kernelspec": {
   "display_name": "Python 3",
   "language": "python",
   "name": "python3"
  },
  "language_info": {
   "codemirror_mode": {
    "name": "ipython",
    "version": 3
   },
   "file_extension": ".py",
   "mimetype": "text/x-python",
   "name": "python",
   "nbconvert_exporter": "python",
   "pygments_lexer": "ipython3",
   "version": "3.6.12"
  }
 },
 "nbformat": 4,
 "nbformat_minor": 5
}
