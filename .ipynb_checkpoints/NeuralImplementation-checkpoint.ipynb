{
 "cells": [
  {
   "cell_type": "code",
   "execution_count": 2,
   "id": "bridal-throw",
   "metadata": {},
   "outputs": [
    {
     "data": {
      "text/plain": [
       "2.3"
      ]
     },
     "execution_count": 2,
     "metadata": {},
     "output_type": "execute_result"
    }
   ],
   "source": [
    "## Single Neuron ...\n",
    "import tensorflow as tf\n",
    "inputs = [1, 2, 3]\n",
    "weights = [0.2, 0.8, -0.5]\n",
    "bias = 2\n",
    "\n",
    "outputs = ( inputs[0] * weights[0] +\n",
    "            inputs[1] * weights[1] +\n",
    "            inputs[2] * weights[2] \n",
    "          ) + bias\n",
    "outputs"
   ]
  },
  {
   "cell_type": "code",
   "execution_count": 2,
   "id": "baking-vessel",
   "metadata": {},
   "outputs": [
    {
     "data": {
      "text/plain": [
       "6.8"
      ]
     },
     "execution_count": 2,
     "metadata": {},
     "output_type": "execute_result"
    }
   ],
   "source": [
    "inputs = [1.0, 2,0, 3.0, 2.5]\n",
    "weights = [0.2, 0.8, -0.5,1.0]\n",
    "bias = 2.0\n",
    "\n",
    "outputs = (inputs[0] * weights[0] +\n",
    "          inputs[1] * weights[1]  +\n",
    "          inputs[2] * weights[2]  +\n",
    "          inputs[3] * weights[3] ) + bias\n",
    "\n",
    "outputs"
   ]
  },
  {
   "cell_type": "code",
   "execution_count": 3,
   "id": "sublime-training",
   "metadata": {},
   "outputs": [
    {
     "name": "stdout",
     "output_type": "stream",
     "text": [
      "-0.26\n"
     ]
    },
    {
     "data": {
      "text/plain": [
       "[4.8, 1.21, 2.385]"
      ]
     },
     "execution_count": 3,
     "metadata": {},
     "output_type": "execute_result"
    }
   ],
   "source": [
    "# Layer of Neurons\n",
    "# 5 INputs  3 Neurons :\n",
    "\n",
    "inputs = [1, 2 ,3 ,2.5]\n",
    "weights1 = [0.2, 0.8, -.5, 1]\n",
    "weights2 = [0.5, -.91, .26, -.5]\n",
    "weights3 = [-0.26, -0.27, 0.17, 0.87]\n",
    "\n",
    "bias1 = 2 ; bias2 = 3; bias3 = 0.5\n",
    "\n",
    "outputs = [\n",
    "    #neuron 1\n",
    "    inputs[0] * weights[0] +\n",
    "    inputs[1] * weights[1] +\n",
    "    inputs[2] * weights[2] +\n",
    "    inputs[3] * weights[3] + bias,\n",
    "    \n",
    "    #Neuron 2\n",
    "    inputs[0] * weights2[0] +\n",
    "    inputs[1] * weights2[1] +\n",
    "    inputs[2] * weights2[2] +\n",
    "    inputs[3] * weights2[3] + bias2,\n",
    "    \n",
    "    inputs[0] * weights3[0] +\n",
    "    inputs[1] * weights3[1] +\n",
    "    inputs[2] * weights3[2] +\n",
    "    inputs[3] * weights3[3] + bias3\n",
    "]\n",
    "   \n",
    "print( weights3[0])\n",
    "outputs\n",
    "        "
   ]
  },
  {
   "cell_type": "code",
   "execution_count": 4,
   "id": "homeless-consolidation",
   "metadata": {},
   "outputs": [
    {
     "data": {
      "text/plain": [
       "[4.8, 1.21, 2.385]"
      ]
     },
     "execution_count": 4,
     "metadata": {},
     "output_type": "execute_result"
    }
   ],
   "source": [
    "inputs = [1,2,3,2.5]\n",
    "weights = [ [0.2,0.8,-0.5,1], \n",
    "            [0.5,-0.91,0.26,-0.5],\n",
    "            [-0.26,-0.27,0.17,0.87]]\n",
    "biases = [2, 3, 0.5]\n",
    "layer_output = []\n",
    "for weight,neuron_bias in zip(weights,biases):\n",
    "    neuron_output = 0\n",
    "    for i_input, i_weight in zip(inputs,  weight):\n",
    "        neuron_output += i_input * i_weight\n",
    "    neuron_output += neuron_bias\n",
    "    layer_output.append(neuron_output)\n",
    "layer_output"
   ]
  },
  {
   "cell_type": "code",
   "execution_count": 5,
   "id": "sticky-wildlife",
   "metadata": {},
   "outputs": [
    {
     "name": "stdout",
     "output_type": "stream",
     "text": [
      "20\n"
     ]
    }
   ],
   "source": [
    "\n",
    "# Dot Product < Only for vector>\n",
    "a = [1,2,3]\n",
    "b = [2,3,4]\n",
    "ans = 0\n",
    "for i in range(len(a)):\n",
    "    ans += a[i] * b[i]\n",
    "print(ans)\n"
   ]
  },
  {
   "cell_type": "code",
   "execution_count": 6,
   "id": "ranging-reply",
   "metadata": {},
   "outputs": [
    {
     "name": "stdout",
     "output_type": "stream",
     "text": [
      "4.8\n"
     ]
    }
   ],
   "source": [
    "# Single neuron with numpy\n",
    "import numpy as np\n",
    "\n",
    "inputs = [1,2,3,2.5]\n",
    "weights  = [0.2,0.8,-0.5,1.0]\n",
    "bias = 2.0\n",
    "\n",
    "output = np.dot(inputs,weights) + bias\n",
    "print(output)"
   ]
  },
  {
   "cell_type": "code",
   "execution_count": 7,
   "id": "focal-commodity",
   "metadata": {},
   "outputs": [
    {
     "name": "stdout",
     "output_type": "stream",
     "text": [
      "[4.8   0.21  3.885]\n",
      "4.8 0.20999999999999974 3.885\n"
     ]
    }
   ],
   "source": [
    "inputs = [1, 2, 3, 2.5]\n",
    "#row dari weight itu layaknya Total neuraon yak\n",
    "weights = [\n",
    "           [0.2, 0.8, -0.5, 1],\n",
    "           [0.5,-0.91,0.26,-0.5],\n",
    "           [-0.26,-0.27,0.17,0.87]\n",
    "           ]\n",
    "layer_outputs = np.dot(weights,inputs) + bias\n",
    "print(layer_outputs)\n",
    "# Visually :\n",
    "print(  np.dot(weights[0],inputs) + bias\n",
    "      , np.dot(weights[1],inputs) + bias \n",
    "      , np.dot(weights[2],inputs) + bias) "
   ]
  },
  {
   "cell_type": "code",
   "execution_count": 8,
   "id": "separate-possession",
   "metadata": {},
   "outputs": [
    {
     "name": "stdout",
     "output_type": "stream",
     "text": [
      "[[2]\n",
      " [3]\n",
      " [4]]\n"
     ]
    },
    {
     "data": {
      "text/plain": [
       "array([20])"
      ]
     },
     "execution_count": 8,
     "metadata": {},
     "output_type": "execute_result"
    }
   ],
   "source": [
    "a = [1,2,3]\n",
    "b = np.array([2,3,4]).reshape(-1,1)\n",
    "print(b)\n",
    "np.dot(a,b)"
   ]
  },
  {
   "cell_type": "code",
   "execution_count": 15,
   "id": "pressed-opinion",
   "metadata": {},
   "outputs": [
    {
     "data": {
      "text/plain": [
       "array([[20]])"
      ]
     },
     "execution_count": 15,
     "metadata": {},
     "output_type": "execute_result"
    }
   ],
   "source": [
    "# dot product vect(a) . vect(b) = matmul(ab.T)\n",
    "a = np.array([[1,2,3]]) # RowVector\n",
    "b = np.array([2,3,4]).reshape(-1,1)\n",
    "np.dot(a,b)\n"
   ]
  },
  {
   "cell_type": "code",
   "execution_count": 16,
   "id": "honest-incident",
   "metadata": {},
   "outputs": [
    {
     "data": {
      "text/plain": [
       "array([[1, 2, 3]])"
      ]
     },
     "execution_count": 16,
     "metadata": {},
     "output_type": "execute_result"
    }
   ],
   "source": [
    "# Transform list into single row matrix\n",
    "a= [1,2,3]\n",
    "np.array([a])"
   ]
  },
  {
   "cell_type": "code",
   "execution_count": 19,
   "id": "concrete-india",
   "metadata": {},
   "outputs": [
    {
     "name": "stdout",
     "output_type": "stream",
     "text": [
      "[1 2 3]\n"
     ]
    },
    {
     "data": {
      "text/plain": [
       "array([[1, 2, 3]])"
      ]
     },
     "execution_count": 19,
     "metadata": {},
     "output_type": "execute_result"
    }
   ],
   "source": [
    "a = [1, 2, 3]\n",
    "print(np.array(a))\n",
    "np.expand_dims(np.array(a),axis=0)"
   ]
  },
  {
   "cell_type": "code",
   "execution_count": 23,
   "id": "ideal-alexander",
   "metadata": {},
   "outputs": [
    {
     "data": {
      "text/plain": [
       "array([[20]])"
      ]
     },
     "execution_count": 23,
     "metadata": {},
     "output_type": "execute_result"
    }
   ],
   "source": [
    "a = [1, 2, 3]\n",
    "b = [2, 3, 4]\n",
    "a = np.array([a])\n",
    "b = np.array([b]).T\n",
    "\n",
    "np.matmul(a,b)\n"
   ]
  },
  {
   "cell_type": "code",
   "execution_count": 26,
   "id": "painted-combination",
   "metadata": {},
   "outputs": [
    {
     "name": "stdout",
     "output_type": "stream",
     "text": [
      "[[ 0.2   0.5  -0.26]\n",
      " [ 0.8  -0.91 -0.27]\n",
      " [-0.5   0.26  0.17]\n",
      " [ 1.   -0.5   0.87]]\n",
      "[3.885 2.7   0.026]\n"
     ]
    }
   ],
   "source": [
    "inputs = [[1.0, 2.0, 3.0, 2.5],\n",
    "          [2.0, 5.0, -1.0, 2.0],\n",
    "          [-1.5, 2.7, 3.3, -0.8]]\n",
    "\n",
    "weights = [[0.2, 0.8, -0.5, 1.0],\n",
    "           [0.5, -0.91, 0.26, -0.5],\n",
    "           [-0.26, -0.27, 0.17, 0.87]]\n",
    "biases = [2.0, 3.0, 0.5]\n",
    "print(np.array(weights).T)\n",
    "outputs = np.dot(inputs, np.array(weight).T) + biases\n",
    "print(outputs)"
   ]
  },
  {
   "cell_type": "code",
   "execution_count": 11,
   "id": "legitimate-experience",
   "metadata": {},
   "outputs": [
    {
     "name": "stdout",
     "output_type": "stream",
     "text": [
      "[[  3.    25.1    3.24 325.52   3.31]\n",
      " [  5.4   27.2    6.27 576.92   6.67]\n",
      " [  7.4   28.6    7.85 596.52   9.27]\n",
      " [  4.6   26.2    4.03 261.72   4.99]]\n",
      "[[   72.334    101.971    190.3436 25252.787 ]\n",
      " [  124.792    178.72     333.2159 44703.701 ]\n",
      " [  130.228    185.558    345.6877 46229.357 ]\n",
      " [   60.608     83.508    155.6355 20327.809 ]]\n"
     ]
    }
   ],
   "source": [
    "## Hidden layers\n",
    "import numpy as np\n",
    "inputs = [ [1,2,3,4],\n",
    "         [4,5,6,7],\n",
    "         [8,9,8,7],\n",
    "         [6,5,4,3] ]\n",
    "# 5 neurons , so the weights its going to be like this [5,len(inputs)]\n",
    "weights = [ [0.2, 0.2, 0.2,0.2],\n",
    "            [ 0.2, 0.1, 0.1,0.3],\n",
    "            [0.11,0.23,0.11,0.56],\n",
    "            [0.2,3.1,3.2,77.3],\n",
    "            [0.1,0.3,0.5,0.22] ]\n",
    "biases = [1.0, 23.2, 0.1, 0.32,0.23]\n",
    "firstNeuron = np.dot(inputs, np.array(weights).T) + biases\n",
    "print(firstNeuron)\n",
    "# for the next layer ,its going to be another hidden layer : 4 neurons\n",
    "\n",
    "weights2 = [ [0.2, 0.2, 0.2,0.2,0.2],\n",
    "            [ 0.2, 0.1, 0.1,0.3,0.1],\n",
    "            [0.11,0.23,0.11,0.56,0.3],\n",
    "            [0.2,3.1,3.2,77.3,0.3]]\n",
    "biases2 = [0.3,0.55,0.6,0.32]\n",
    "\n",
    "secondNeuron = np.dot(firstNeuron, np.array(weights2).T) + biases2\n",
    "print(secondNeuron)"
   ]
  },
  {
   "cell_type": "code",
   "execution_count": 42,
   "id": "nasty-mason",
   "metadata": {},
   "outputs": [
    {
     "data": {
      "image/png": "[encoded data removed]",
      "text/plain": [
       "<Figure size 432x288 with 1 Axes>"
      ]
     },
     "metadata": {
      "needs_background": "light"
     },
     "output_type": "display_data"
    }
   ],
   "source": [
    "import matplotlib.pyplot as plt\n",
    "def createSpiralData():\n",
    "    N = 1000\n",
    "    dims= 2\n",
    "    classes = 3\n",
    "    x = np.zeros(shape=(N*classes,dims))\n",
    "    y = np.zeros(shape=(N*classes),dtype=\"uint8\")\n",
    "   \n",
    "    for j in range (classes):\n",
    "        index = range(N*j, N*(j+1))\n",
    "        rad = np.linspace(0.0,1,N)\n",
    "        theta = np.linspace(j*4,(j+1)*4,N) + np.random.randn(N) * 0.2\n",
    "        x[index]  = np.c_[rad*np.sin(theta),rad*np.cos(theta)]\n",
    "        y[index] = j\n",
    "    plt.scatter(x[:,0],x[:,1],c=y,s=40)\n",
    "    plt.show()\n",
    "createSpiralData()"
   ]
  },
  {
   "cell_type": "code",
   "execution_count": null,
   "id": "identical-promotion",
   "metadata": {},
   "outputs": [],
   "source": []
  },
  {
   "cell_type": "code",
   "execution_count": null,
   "id": "fixed-qualification",
   "metadata": {},
   "outputs": [],
   "source": []
  },
  {
   "cell_type": "code",
   "execution_count": null,
   "id": "changing-dutch",
   "metadata": {},
   "outputs": [],
   "source": []
  },
  {
   "cell_type": "code",
   "execution_count": null,
   "id": "original-england",
   "metadata": {},
   "outputs": [],
   "source": []
  },
  {
   "cell_type": "code",
   "execution_count": null,
   "id": "outer-works",
   "metadata": {},
   "outputs": [],
   "source": []
  },
  {
   "cell_type": "code",
   "execution_count": null,
   "id": "distinguished-ecuador",
   "metadata": {},
   "outputs": [],
   "source": []
  },
  {
   "cell_type": "code",
   "execution_count": null,
   "id": "enabling-commons",
   "metadata": {},
   "outputs": [],
   "source": []
  },
  {
   "cell_type": "code",
   "execution_count": null,
   "id": "loved-progressive",
   "metadata": {},
   "outputs": [],
   "source": []
  },
  {
   "cell_type": "code",
   "execution_count": null,
   "id": "simple-glossary",
   "metadata": {},
   "outputs": [],
   "source": []
  }
 ],
 "metadata": {
  "kernelspec": {
   "display_name": "Python 3",
   "language": "python",
   "name": "python3"
  },
  "language_info": {
   "codemirror_mode": {
    "name": "ipython",
    "version": 3
   },
   "file_extension": ".py",
   "mimetype": "text/x-python",
   "name": "python",
   "nbconvert_exporter": "python",
   "pygments_lexer": "ipython3",
   "version": "3.6.12"
  }
 },
 "nbformat": 4,
 "nbformat_minor": 5
}
