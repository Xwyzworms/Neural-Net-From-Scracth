{
 "cells": [
  {
   "cell_type": "code",
   "execution_count": 2,
   "id": "bridal-throw",
   "metadata": {},
   "outputs": [
    {
     "data": {
      "text/plain": [
       "2.3"
      ]
     },
     "execution_count": 2,
     "metadata": {},
     "output_type": "execute_result"
    }
   ],
   "source": [
    "## Single Neuron ...\n",
    "import tensorflow as tf\n",
    "inputs = [1, 2, 3]\n",
    "weights = [0.2, 0.8, -0.5]\n",
    "bias = 2\n",
    "\n",
    "outputs = ( inputs[0] * weights[0] +\n",
    "            inputs[1] * weights[1] +\n",
    "            inputs[2] * weights[2] \n",
    "          ) + bias\n",
    "outputs"
   ]
  },
  {
   "cell_type": "code",
   "execution_count": 2,
   "id": "baking-vessel",
   "metadata": {},
   "outputs": [
    {
     "data": {
      "text/plain": [
       "6.8"
      ]
     },
     "execution_count": 2,
     "metadata": {},
     "output_type": "execute_result"
    }
   ],
   "source": [
    "inputs = [1.0, 2,0, 3.0, 2.5]\n",
    "weights = [0.2, 0.8, -0.5,1.0]\n",
    "bias = 2.0\n",
    "\n",
    "outputs = (inputs[0] * weights[0] +\n",
    "          inputs[1] * weights[1]  +\n",
    "          inputs[2] * weights[2]  +\n",
    "          inputs[3] * weights[3] ) + bias\n",
    "\n",
    "outputs"
   ]
  },
  {
   "cell_type": "code",
   "execution_count": 3,
   "id": "sublime-training",
   "metadata": {},
   "outputs": [
    {
     "name": "stdout",
     "output_type": "stream",
     "text": [
      "-0.26\n"
     ]
    },
    {
     "data": {
      "text/plain": [
       "[4.8, 1.21, 2.385]"
      ]
     },
     "execution_count": 3,
     "metadata": {},
     "output_type": "execute_result"
    }
   ],
   "source": [
    "# Layer of Neurons\n",
    "# 5 INputs  3 Neurons :\n",
    "\n",
    "inputs = [1, 2 ,3 ,2.5]\n",
    "weights1 = [0.2, 0.8, -.5, 1]\n",
    "weights2 = [0.5, -.91, .26, -.5]\n",
    "weights3 = [-0.26, -0.27, 0.17, 0.87]\n",
    "\n",
    "bias1 = 2 ; bias2 = 3; bias3 = 0.5\n",
    "\n",
    "outputs = [\n",
    "    #neuron 1\n",
    "    inputs[0] * weights[0] +\n",
    "    inputs[1] * weights[1] +\n",
    "    inputs[2] * weights[2] +\n",
    "    inputs[3] * weights[3] + bias,\n",
    "    \n",
    "    #Neuron 2\n",
    "    inputs[0] * weights2[0] +\n",
    "    inputs[1] * weights2[1] +\n",
    "    inputs[2] * weights2[2] +\n",
    "    inputs[3] * weights2[3] + bias2,\n",
    "    \n",
    "    inputs[0] * weights3[0] +\n",
    "    inputs[1] * weights3[1] +\n",
    "    inputs[2] * weights3[2] +\n",
    "    inputs[3] * weights3[3] + bias3\n",
    "]\n",
    "   \n",
    "print( weights3[0])\n",
    "outputs\n",
    "        "
   ]
  },
  {
   "cell_type": "code",
   "execution_count": 4,
   "id": "homeless-consolidation",
   "metadata": {},
   "outputs": [
    {
     "data": {
      "text/plain": [
       "[4.8, 1.21, 2.385]"
      ]
     },
     "execution_count": 4,
     "metadata": {},
     "output_type": "execute_result"
    }
   ],
   "source": [
    "inputs = [1,2,3,2.5]\n",
    "weights = [ [0.2,0.8,-0.5,1], \n",
    "            [0.5,-0.91,0.26,-0.5],\n",
    "            [-0.26,-0.27,0.17,0.87]]\n",
    "biases = [2, 3, 0.5]\n",
    "layer_output = []\n",
    "for weight,neuron_bias in zip(weights,biases):\n",
    "    neuron_output = 0\n",
    "    for i_input, i_weight in zip(inputs,  weight):\n",
    "        neuron_output += i_input * i_weight\n",
    "    neuron_output += neuron_bias\n",
    "    layer_output.append(neuron_output)\n",
    "layer_output"
   ]
  },
  {
   "cell_type": "code",
   "execution_count": 5,
   "id": "sticky-wildlife",
   "metadata": {},
   "outputs": [
    {
     "name": "stdout",
     "output_type": "stream",
     "text": [
      "20\n"
     ]
    }
   ],
   "source": [
    "\n",
    "# Dot Product < Only for vector>\n",
    "a = [1,2,3]\n",
    "b = [2,3,4]\n",
    "ans = 0\n",
    "for i in range(len(a)):\n",
    "    ans += a[i] * b[i]\n",
    "print(ans)\n"
   ]
  },
  {
   "cell_type": "code",
   "execution_count": 6,
   "id": "ranging-reply",
   "metadata": {},
   "outputs": [
    {
     "name": "stdout",
     "output_type": "stream",
     "text": [
      "4.8\n"
     ]
    }
   ],
   "source": [
    "# Single neuron with numpy\n",
    "import numpy as np\n",
    "\n",
    "inputs = [1,2,3,2.5]\n",
    "weights  = [0.2,0.8,-0.5,1.0]\n",
    "bias = 2.0\n",
    "\n",
    "output = np.dot(inputs,weights) + bias\n",
    "print(output)"
   ]
  },
  {
   "cell_type": "code",
   "execution_count": 7,
   "id": "focal-commodity",
   "metadata": {},
   "outputs": [
    {
     "name": "stdout",
     "output_type": "stream",
     "text": [
      "[4.8   0.21  3.885]\n",
      "4.8 0.20999999999999974 3.885\n"
     ]
    }
   ],
   "source": [
    "inputs = [1, 2, 3, 2.5]\n",
    "#row dari weight itu layaknya Total neuraon yak\n",
    "weights = [\n",
    "           [0.2, 0.8, -0.5, 1],\n",
    "           [0.5,-0.91,0.26,-0.5],\n",
    "           [-0.26,-0.27,0.17,0.87]\n",
    "           ]\n",
    "layer_outputs = np.dot(weights,inputs) + bias\n",
    "print(layer_outputs)\n",
    "# Visually :\n",
    "print(  np.dot(weights[0],inputs) + bias\n",
    "      , np.dot(weights[1],inputs) + bias \n",
    "      , np.dot(weights[2],inputs) + bias) "
   ]
  },
  {
   "cell_type": "code",
   "execution_count": 8,
   "id": "separate-possession",
   "metadata": {},
   "outputs": [
    {
     "name": "stdout",
     "output_type": "stream",
     "text": [
      "[[2]\n",
      " [3]\n",
      " [4]]\n"
     ]
    },
    {
     "data": {
      "text/plain": [
       "array([20])"
      ]
     },
     "execution_count": 8,
     "metadata": {},
     "output_type": "execute_result"
    }
   ],
   "source": [
    "a = [1,2,3]\n",
    "b = np.array([2,3,4]).reshape(-1,1)\n",
    "print(b)\n",
    "np.dot(a,b)"
   ]
  },
  {
   "cell_type": "code",
   "execution_count": 15,
   "id": "pressed-opinion",
   "metadata": {},
   "outputs": [
    {
     "data": {
      "text/plain": [
       "array([[20]])"
      ]
     },
     "execution_count": 15,
     "metadata": {},
     "output_type": "execute_result"
    }
   ],
   "source": [
    "# dot product vect(a) . vect(b) = matmul(ab.T)\n",
    "a = np.array([[1,2,3]]) # RowVector\n",
    "b = np.array([2,3,4]).reshape(-1,1)\n",
    "np.dot(a,b)\n"
   ]
  },
  {
   "cell_type": "code",
   "execution_count": 16,
   "id": "honest-incident",
   "metadata": {},
   "outputs": [
    {
     "data": {
      "text/plain": [
       "array([[1, 2, 3]])"
      ]
     },
     "execution_count": 16,
     "metadata": {},
     "output_type": "execute_result"
    }
   ],
   "source": [
    "# Transform list into single row matrix\n",
    "a= [1,2,3]\n",
    "np.array([a])"
   ]
  },
  {
   "cell_type": "code",
   "execution_count": 19,
   "id": "concrete-india",
   "metadata": {},
   "outputs": [
    {
     "name": "stdout",
     "output_type": "stream",
     "text": [
      "[1 2 3]\n"
     ]
    },
    {
     "data": {
      "text/plain": [
       "array([[1, 2, 3]])"
      ]
     },
     "execution_count": 19,
     "metadata": {},
     "output_type": "execute_result"
    }
   ],
   "source": [
    "a = [1, 2, 3]\n",
    "print(np.array(a))\n",
    "np.expand_dims(np.array(a),axis=0)"
   ]
  },
  {
   "cell_type": "code",
   "execution_count": 23,
   "id": "ideal-alexander",
   "metadata": {},
   "outputs": [
    {
     "data": {
      "text/plain": [
       "array([[20]])"
      ]
     },
     "execution_count": 23,
     "metadata": {},
     "output_type": "execute_result"
    }
   ],
   "source": [
    "a = [1, 2, 3]\n",
    "b = [2, 3, 4]\n",
    "a = np.array([a])\n",
    "b = np.array([b]).T\n",
    "\n",
    "np.matmul(a,b)\n"
   ]
  },
  {
   "cell_type": "code",
   "execution_count": 26,
   "id": "painted-combination",
   "metadata": {},
   "outputs": [
    {
     "name": "stdout",
     "output_type": "stream",
     "text": [
      "[[ 0.2   0.5  -0.26]\n",
      " [ 0.8  -0.91 -0.27]\n",
      " [-0.5   0.26  0.17]\n",
      " [ 1.   -0.5   0.87]]\n",
      "[3.885 2.7   0.026]\n"
     ]
    }
   ],
   "source": [
    "inputs = [[1.0, 2.0, 3.0, 2.5],\n",
    "          [2.0, 5.0, -1.0, 2.0],\n",
    "          [-1.5, 2.7, 3.3, -0.8]]\n",
    "\n",
    "weights = [[0.2, 0.8, -0.5, 1.0],\n",
    "           [0.5, -0.91, 0.26, -0.5],\n",
    "           [-0.26, -0.27, 0.17, 0.87]]\n",
    "biases = [2.0, 3.0, 0.5]\n",
    "print(np.array(weights).T)\n",
    "outputs = np.dot(inputs, np.array(weight).T) + biases\n",
    "print(outputs)"
   ]
  },
  {
   "cell_type": "code",
   "execution_count": 1,
   "id": "legitimate-experience",
   "metadata": {},
   "outputs": [
    {
     "name": "stdout",
     "output_type": "stream",
     "text": [
      "[[  3.    25.1    3.24 325.52   3.31]\n",
      " [  5.4   27.2    6.27 576.92   6.67]\n",
      " [  7.4   28.6    7.85 596.52   9.27]\n",
      " [  4.6   26.2    4.03 261.72   4.99]]\n",
      "[[   72.334    101.971    190.3436 25252.787 ]\n",
      " [  124.792    178.72     333.2159 44703.701 ]\n",
      " [  130.228    185.558    345.6877 46229.357 ]\n",
      " [   60.608     83.508    155.6355 20327.809 ]]\n"
     ]
    }
   ],
   "source": [
    "## Hidden layers\n",
    "import numpy as np\n",
    "inputs = [ [1,2,3,4],\n",
    "         [4,5,6,7],\n",
    "         [8,9,8,7],\n",
    "         [6,5,4,3] ]\n",
    "# 5 neurons , so the weights its going to be like this [5,len(inputs)]\n",
    "weights = [ [0.2, 0.2, 0.2,0.2],\n",
    "            [ 0.2, 0.1, 0.1,0.3],\n",
    "            [0.11,0.23,0.11,0.56],\n",
    "            [0.2,3.1,3.2,77.3],\n",
    "            [0.1,0.3,0.5,0.22] ]\n",
    "biases = [1.0, 23.2, 0.1, 0.32,0.23]\n",
    "firstNeuron = np.dot(inputs, np.array(weights).T) + biases\n",
    "print(firstNeuron)\n",
    "# for the next layer ,its going to be another hidden layer : 4 neurons\n",
    "\n",
    "weights2 = [ [0.2, 0.2, 0.2,0.2,0.2],\n",
    "            [ 0.2, 0.1, 0.1,0.3,0.1],\n",
    "            [0.11,0.23,0.11,0.56,0.3],\n",
    "            [0.2,3.1,3.2,77.3,0.3]]\n",
    "biases2 = [0.3,0.55,0.6,0.32]\n",
    "\n",
    "secondNeuron = np.dot(firstNeuron, np.array(weights2).T) + biases2\n",
    "print(secondNeuron)"
   ]
  },
  {
   "cell_type": "code",
   "execution_count": 10,
   "id": "nasty-mason",
   "metadata": {},
   "outputs": [
    {
     "data": {
      "image/png": "[encoded data removed]",
      "text/plain": [
       "<Figure size 432x288 with 1 Axes>"
      ]
     },
     "metadata": {
      "needs_background": "light"
     },
     "output_type": "display_data"
    }
   ],
   "source": [
    "import matplotlib.pyplot as plt\n",
    "def createSpiralData():\n",
    "    N = 100\n",
    "    dims= 2\n",
    "    classes = 3\n",
    "    x = np.zeros(shape=(N*classes,dims))\n",
    "    y = np.zeros(shape=(N*classes),dtype=\"uint8\")\n",
    "   \n",
    "    for j in range (classes):\n",
    "        index = range(N*j, N*(j+1))\n",
    "        rad = np.linspace(0.0,1,N)\n",
    "        theta = np.linspace(j*5,(j+1)*4,N) + np.random.randn(N) * 0.2\n",
    "        x[index]  = np.c_[rad*np.sin(theta),rad*np.cos(theta)]\n",
    "        y[index] = j\n",
    "    plt.scatter(x[:,0],x[:,1],c=y,s=40)\n",
    "    plt.show()\n",
    "    return x,y\n",
    "x,y= createSpiralData()"
   ]
  },
  {
   "cell_type": "code",
   "execution_count": 59,
   "id": "identical-promotion",
   "metadata": {},
   "outputs": [
    {
     "data": {
      "text/plain": [
       "array([ 0.        , -0.98803162,  0.85090352, -0.30481062,  0.89399666,\n",
       "        0.58061118, -0.71487643, -0.80115264])"
      ]
     },
     "execution_count": 59,
     "metadata": {},
     "output_type": "execute_result"
    }
   ],
   "source": [
    "np.sin(np.array((0., 30., 45., 60., 90., 120, 150, 180)))\n"
   ]
  },
  {
   "cell_type": "code",
   "execution_count": 11,
   "id": "fixed-qualification",
   "metadata": {},
   "outputs": [
    {
     "data": {
      "image/png": "[encoded data removed]",
      "text/plain": [
       "<Figure size 432x288 with 1 Axes>"
      ]
     },
     "metadata": {
      "needs_background": "light"
     },
     "output_type": "display_data"
    },
    {
     "name": "stdout",
     "output_type": "stream",
     "text": [
      "[[ 0.00000000e+00  0.00000000e+00  0.00000000e+00  0.00000000e+00\n",
      "   0.00000000e+00]\n",
      " [ 9.06748314e-05 -1.68346648e-04  1.89068341e-04  1.52723932e-05\n",
      "  -9.00913200e-05]]\n"
     ]
    }
   ],
   "source": [
    "class Dense:\n",
    "    \n",
    "    def __init__(self, n_inputs, n_neurons):\n",
    "        self.weights = 0.01 * np.random.randn(n_inputs,n_neurons)\n",
    "        self.biases = np.zeros(shape=(1,n_neurons))\n",
    "    \n",
    "    def forward(self,input):\n",
    "        self.output = np.dot(input, self.weights) + self.biases\n",
    "    \n",
    "x,y = createSpiralData()\n",
    "dense = Dense(2,5)\n",
    "dense.forward(x)\n",
    "print(dense.output[:2])"
   ]
  },
  {
   "cell_type": "code",
   "execution_count": 4,
   "id": "changing-dutch",
   "metadata": {},
   "outputs": [
    {
     "data": {
      "text/plain": [
       "array([[0., 0., 0., 0., 0.]])"
      ]
     },
     "execution_count": 4,
     "metadata": {},
     "output_type": "execute_result"
    }
   ],
   "source": [
    "np.zeros((1,5))"
   ]
  },
  {
   "cell_type": "code",
   "execution_count": 8,
   "id": "original-england",
   "metadata": {},
   "outputs": [
    {
     "name": "stdout",
     "output_type": "stream",
     "text": [
      "[0, 2, 0, 3.3, 0, 1.1, 2.2, 0]\n",
      "[0.  2.  0.  3.3 0.  1.1 2.2 0. ]\n",
      "[0.5, 0.8807970779778823, 0.2689414213699951, 0.9644288107273639, 0.06297335605699649, 0.7502601055951177, 0.9002495108803148, 3.7200759760208356e-44]\n",
      "[5.00000000e-01 8.80797078e-01 2.68941421e-01 9.64428811e-01\n",
      " 6.29733561e-02 7.50260106e-01 9.00249511e-01 3.72007598e-44]\n"
     ]
    }
   ],
   "source": [
    "# Activation Function\n",
    "import math\n",
    "import numpy as np\n",
    "\"\"\"\n",
    "Activation function is very important for neural network especially when mapping data to the actual output\n",
    "Relu is the best for doing such thing like this,thus this function is mainly used by data scientist for fitting\n",
    "the data .\n",
    "\n",
    "\n",
    "Jadi sebenernya setiap layer di neural network itu saling melengkapi satusama lain untuk fitting ke datanya\n",
    "nah misal studi kasusnya fitting NN ke fungsi Cos, nah nanti setiap neuron itu ada yang nyesuain slopenya\n",
    "dlu < Gunain Si Weights sama biases > , terus nanti Baru data di pass untuk smoothing fitting data nya.\n",
    "\n",
    "Semakin banyak neuron -> \n",
    "pros : \n",
    "semakin banyak hidden spots ditemukan atau fitur fitur tersenbunyi ditemukan ,tapi \n",
    "bisa juga membuat fitting data lebih cepat \n",
    "cons :\n",
    "<Bisa Overfit>\n",
    "<Biaya komputasinya lebih besar >\n",
    "\"\"\"\n",
    "\n",
    "\"\"\"\n",
    "Linear Activation Function \n",
    "Straight Line  : Linear biasa\n",
    "Biasa dipake untuk luaran regresi di neural networks\n",
    "soalnya linear Activation ini bisa buat 'dead neurons'\n",
    "dead neuron --> Ya ga ada kontribusi jadi kalau misalnya nilainya -1.0 atau 1.0 mau masuk kelayer apapun\n",
    "atau neuron appun hasilnya ya kalau ga 1.0 -1.0 < makanya linear activation itu ga cukup untuk train NN\n",
    "nah solusinya gunakan yang dibawah\n",
    "\n",
    "\n",
    "Sigmoid Activation --> Sebenernya ini lebih ke fungsi untuk klasifikasi , dan ternyata fungsi ini juga dapat\n",
    "Optimize weights dan biases < Range 0 - 1 > sehingga fungsi ini digunakan pada hidden layer sebelum bertemu relu\n",
    "\n",
    "Rumus : y = 1 / 1 + e^-x\n",
    "\n",
    "\n",
    "Relu activation --> Fungsi yang paling banyak digunakan di ranah hidden layer, yep karena fungsi ini\n",
    "dapat lebih baik fitting data dibandingkan sigmoid < tanh . elu dan lain lain aku bakal tulis dilain\n",
    "kesempatan >\n",
    "i elemen dari bilangan real <Atau seluruh bilangan real>\n",
    "Rumus : y = max(0,i)\n",
    "Dibawah ini Relu & sigmoid Example\n",
    "\"\"\"\n",
    "\n",
    "\n",
    "# inputs ini dapat berupa masukan dari layer mana pun ya\n",
    "# ini implementasi Relu < tapi bakalan lama karena ini gunain for loop < Vektorisasi Solusinya\n",
    "inputs = [0, 2, -1, 3.3, -2.7, 1.1, 2.2, -100]\n",
    "output =[]\n",
    "for i in inputs:\n",
    "    output.append(max(0,i))\n",
    "print(output)\n",
    "\n",
    "# Gunakan numpy untuk vektorisasi\n",
    "output = np.maximum(0,inputs)\n",
    "print(output)\n",
    "\n",
    "## ini implementasi Sigmoid < Tradisional >\n",
    "output =[]\n",
    "output.clear()\n",
    "for i in inputs:\n",
    "    output.append(1 / (1 + math.exp(-i) ) )\n",
    "print(output)\n",
    "def sigmoid(x):\n",
    "    return 1 / (1 + math.exp(-x))\n",
    "\n",
    "## Gunakan Vektorisasi\n",
    "output.clear()\n",
    "sigmoid_var = np.vectorize(sigmoid)\n",
    "output = sigmoid_var(inputs)\n",
    "print(output)"
   ]
  },
  {
   "cell_type": "code",
   "execution_count": 15,
   "id": "outer-works",
   "metadata": {},
   "outputs": [
    {
     "data": {
      "image/png": "[encoded data removed]",
      "text/plain": [
       "<Figure size 432x288 with 1 Axes>"
      ]
     },
     "metadata": {
      "needs_background": "light"
     },
     "output_type": "display_data"
    },
    {
     "name": "stdout",
     "output_type": "stream",
     "text": [
      "(300, 2)\n",
      "[[0.00000000e+00 0.00000000e+00 0.00000000e+00]\n",
      " [2.22657350e-05 0.00000000e+00 0.00000000e+00]\n",
      " [3.38843114e-05 0.00000000e+00 0.00000000e+00]\n",
      " [2.71138599e-05 0.00000000e+00 0.00000000e+00]\n",
      " [1.99283884e-05 0.00000000e+00 0.00000000e+00]]\n",
      "[[0.5        0.5        0.5       ]\n",
      " [0.50000557 0.49998184 0.49996316]\n",
      " [0.50000847 0.49995016 0.49992456]\n",
      " [0.50000678 0.49990346 0.49989019]\n",
      " [0.50000498 0.4998603  0.4998593 ]]\n"
     ]
    }
   ],
   "source": [
    "# We would like to apply to spiral data\n",
    "class ReLu:\n",
    "    def forward(self, inputs):\n",
    "        self.output = np.maximum(0,inputs)\n",
    "class Sigmoid:\n",
    "    def forward(self, inputs):\n",
    "        self.output = sigmoid_var(inputs)\n",
    "x,y = createSpiralData()\n",
    "print(x.shape)\n",
    "layerDense = Dense(n_inputs=2, n_neurons=3)\n",
    "activation = ReLu()\n",
    "activationSigmoid = Sigmoid()\n",
    "layerDense.forward(x) # Apply Linear Function\n",
    "activation.forward(layerDense.output) # Then Use This Activation <Mostly Like that>\n",
    "activationSigmoid.forward(layerDense.output) # If you would like to use this activation funct\n",
    "print(activation.output[:5])\n",
    "\n",
    "print(activationSigmoid.output[:5])"
   ]
  },
  {
   "cell_type": "code",
   "execution_count": 16,
   "id": "distinguished-ecuador",
   "metadata": {},
   "outputs": [
    {
     "data": {
      "text/plain": [
       "'\\nSometimes Relu activaction its not always good for some cases\\nIyap karena relu ini < Independent Dia > nilainya ga bergantung hal hal lain <Gas langsung max(0,i)\\nTerus non normalize < yep valuenya bisa di range apa aja < 0 - 300 -100jt> ga ada yang tau nah untuk itu\\ndia ini sebenenrnya ga cocok unutk output layer klasifikasi , Kan regressi mah linear activation doang \\nuntuk output layer digunakan lah Softmax < Rumusnya males Nulis ,jadi aku kasih liat artikel aja  >\\n\\nhttps://en.wikipedia.org/wiki/Softmax_function\\nDah bener itu\\n'"
      ]
     },
     "execution_count": 16,
     "metadata": {},
     "output_type": "execute_result"
    }
   ],
   "source": [
    "\"\"\"\n",
    "Sometimes Relu activaction its not always good for some cases\n",
    "Iyap karena relu ini < Independent Dia > nilainya ga bergantung hal hal lain <Gas langsung max(0,i)\n",
    "Terus non normalize < yep valuenya bisa di range apa aja < 0 - 300 -100jt> ga ada yang tau nah untuk itu\n",
    "dia ini sebenenrnya ga cocok unutk output layer klasifikasi , Kan regressi mah linear activation doang \n",
    "untuk output layer digunakan lah Softmax < Rumusnya males Nulis ,jadi aku kasih liat artikel aja  >\n",
    "\n",
    "https://en.wikipedia.org/wiki/Softmax_function\n",
    "Dah bener itu\n",
    "\"\"\""
   ]
  },
  {
   "cell_type": "code",
   "execution_count": null,
   "id": "enabling-commons",
   "metadata": {},
   "outputs": [],
   "source": []
  },
  {
   "cell_type": "code",
   "execution_count": null,
   "id": "loved-progressive",
   "metadata": {},
   "outputs": [],
   "source": []
  },
  {
   "cell_type": "code",
   "execution_count": null,
   "id": "simple-glossary",
   "metadata": {},
   "outputs": [],
   "source": []
  }
 ],
 "metadata": {
  "kernelspec": {
   "display_name": "Python 3",
   "language": "python",
   "name": "python3"
  },
  "language_info": {
   "codemirror_mode": {
    "name": "ipython",
    "version": 3
   },
   "file_extension": ".py",
   "mimetype": "text/x-python",
   "name": "python",
   "nbconvert_exporter": "python",
   "pygments_lexer": "ipython3",
   "version": "3.6.12"
  }
 },
 "nbformat": 4,
 "nbformat_minor": 5
}
